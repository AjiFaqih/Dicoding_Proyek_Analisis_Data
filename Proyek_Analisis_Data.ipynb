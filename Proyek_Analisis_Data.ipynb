{
  "cells": [
    {
      "cell_type": "markdown",
      "metadata": {
        "id": "H9wADwK78DCz"
      },
      "source": [
        "# Proyek Analisis Data: Bike Sharing Dataset\n",
        "- **Nama:** Muhammad Faqih Ajiputra\n",
        "- **Email:** mfaqihajiputra99@gmail.com\n",
        "- **ID Dicoding:** faqihaji"
      ]
    },
    {
      "cell_type": "code",
      "execution_count": null,
      "metadata": {
        "id": "kgGWubb8KsEp"
      },
      "outputs": [],
      "source": []
    },
    {
      "cell_type": "markdown",
      "metadata": {
        "id": "eE0raob58DC0"
      },
      "source": [
        "## Menentukan Pertanyaan Bisnis"
      ]
    },
    {
      "cell_type": "markdown",
      "metadata": {
        "id": "GmQeQ5YF8DC0"
      },
      "source": [
        "- Bagaimana performa bulanan perental di tahun 2011 dan 2012?\n",
        "- Bagaimana pengaruh status hari terhadap banyaknya rental?"
      ]
    },
    {
      "cell_type": "markdown",
      "metadata": {
        "id": "H-z4QGlO8DC1"
      },
      "source": [
        "## Import Semua Packages/Library yang Digunakan"
      ]
    },
    {
      "cell_type": "code",
      "execution_count": null,
      "metadata": {
        "id": "FVYwaObI8DC1"
      },
      "outputs": [],
      "source": [
        "import pandas as pd\n",
        "import matplotlib.pyplot as plt"
      ]
    },
    {
      "cell_type": "markdown",
      "metadata": {
        "id": "h_Sh51Xy8DC1"
      },
      "source": [
        "## Data Wrangling"
      ]
    },
    {
      "cell_type": "markdown",
      "metadata": {
        "id": "sXU2GBYu8DC1"
      },
      "source": [
        "### Gathering Data"
      ]
    },
    {
      "cell_type": "code",
      "execution_count": null,
      "metadata": {
        "id": "zjCBk1BI8DC1"
      },
      "outputs": [],
      "source": [
        "day_df = pd.read_csv('data/day.csv')\n",
        "hour_df = pd.read_csv('data/hour.csv')"
      ]
    },
    {
      "cell_type": "code",
      "execution_count": null,
      "metadata": {},
      "outputs": [],
      "source": [
        "day_df.head()"
      ]
    },
    {
      "cell_type": "code",
      "execution_count": null,
      "metadata": {},
      "outputs": [],
      "source": [
        "hour_df.head()"
      ]
    },
    {
      "cell_type": "markdown",
      "metadata": {
        "id": "FHSiqaZp8DC1"
      },
      "source": [
        "### Assessing Data"
      ]
    },
    {
      "cell_type": "code",
      "execution_count": null,
      "metadata": {
        "id": "ax-3tEjc9Cj1"
      },
      "outputs": [],
      "source": [
        "day_df.info()"
      ]
    },
    {
      "cell_type": "code",
      "execution_count": null,
      "metadata": {},
      "outputs": [],
      "source": [
        "day_df.isna().sum()"
      ]
    },
    {
      "cell_type": "code",
      "execution_count": null,
      "metadata": {},
      "outputs": [],
      "source": [
        "print(\"Duplicated Data: \",  day_df.duplicated().sum())"
      ]
    },
    {
      "cell_type": "code",
      "execution_count": null,
      "metadata": {},
      "outputs": [],
      "source": [
        "day_df.describe()"
      ]
    },
    {
      "cell_type": "code",
      "execution_count": null,
      "metadata": {},
      "outputs": [],
      "source": [
        "hour_df.info()"
      ]
    },
    {
      "cell_type": "code",
      "execution_count": null,
      "metadata": {},
      "outputs": [],
      "source": [
        "hour_df.isna().sum()"
      ]
    },
    {
      "cell_type": "code",
      "execution_count": null,
      "metadata": {},
      "outputs": [],
      "source": [
        "print(\"Duplicated Data: \",  hour_df.duplicated().sum())"
      ]
    },
    {
      "cell_type": "markdown",
      "metadata": {
        "id": "EhN5R4hr8DC1"
      },
      "source": [
        "### Cleaning Data"
      ]
    },
    {
      "cell_type": "markdown",
      "metadata": {},
      "source": [
        "Mengubah tipe data kolom 'dteday' menjadi 'datetime64'"
      ]
    },
    {
      "cell_type": "code",
      "execution_count": null,
      "metadata": {
        "id": "jVnYpprE9Evz"
      },
      "outputs": [],
      "source": [
        "datetime_columns = ['dteday']\n",
        "\n",
        "for column in datetime_columns:\n",
        "  day_df[column] = pd.to_datetime(day_df[column])"
      ]
    },
    {
      "cell_type": "code",
      "execution_count": null,
      "metadata": {},
      "outputs": [],
      "source": [
        "day_df.info()"
      ]
    },
    {
      "cell_type": "markdown",
      "metadata": {},
      "source": [
        "Mengubah tipe data kolom 'dteday' menjadi 'datetime64'"
      ]
    },
    {
      "cell_type": "code",
      "execution_count": null,
      "metadata": {},
      "outputs": [],
      "source": [
        "datetime_columns = ['dteday']\n",
        "\n",
        "for column in datetime_columns:\n",
        "  hour_df[column] = pd.to_datetime(hour_df[column])"
      ]
    },
    {
      "cell_type": "code",
      "execution_count": null,
      "metadata": {},
      "outputs": [],
      "source": [
        "hour_df.info()"
      ]
    },
    {
      "cell_type": "markdown",
      "metadata": {},
      "source": [
        "Mengubah kolom 'yr', 'workingday', 'mnth' sesuai dengan Dataset characteristics yang diberikan. Lalu mengubah tipe data kolom 'workingday' dan 'mnth' menjadi 'str'\n",
        "\n",
        "- yr : year (0: 2011, 1:2012)\n",
        "- mnth : month ( 1 to 12)\n",
        "- workingday : if day is neither weekend nor holiday is 1, otherwise is 0"
      ]
    },
    {
      "cell_type": "code",
      "execution_count": null,
      "metadata": {},
      "outputs": [],
      "source": [
        "day_df['yr'] = day_df['yr'].replace({0:2011, 1:2012})\n",
        "day_df['workingday'] = day_df['workingday'].replace({1 : 'Holiday', 0: 'Workingday'})\n",
        "day_df['mnth'] = day_df['mnth'].replace({\n",
        "    1: 'January', 2: 'February', 3: 'March', 4: 'April',\n",
        "    5: 'May', 6: 'June', 7: 'July', 8: 'August',\n",
        "    9: 'September', 10: 'October', 11: 'November', 12: 'December'\n",
        "})\n",
        "\n",
        "day_df['workingday'] = day_df.workingday.astype('str')\n",
        "day_df['mnth'] = day_df.mnth.astype('str')\n",
        "day_df.head()"
      ]
    },
    {
      "cell_type": "code",
      "execution_count": null,
      "metadata": {},
      "outputs": [],
      "source": [
        "day_df['yr'] = day_df['yr'].replace({0:2011, 1:2012})\n",
        "hour_df['workingday'] = hour_df['workingday'].replace({1 : 'Holiday', 0: 'Workingday'}) \n",
        "hour_df['mnth'] = hour_df['mnth'].replace({\n",
        "    1: 'January', 2: 'February', 3: 'March', 4: 'April',\n",
        "    5: 'May', 6: 'June', 7: 'July', 8: 'August',\n",
        "    9: 'September', 10: 'October', 11: 'November', 12: 'December'\n",
        "})\n",
        "hour_df['workingday'] = hour_df.workingday.astype('str')\n",
        "hour_df['mnth'] = hour_df.mnth.astype('str')\n",
        "hour_df.head()"
      ]
    },
    {
      "cell_type": "code",
      "execution_count": null,
      "metadata": {},
      "outputs": [],
      "source": [
        "day_df.info()"
      ]
    },
    {
      "cell_type": "code",
      "execution_count": null,
      "metadata": {},
      "outputs": [],
      "source": [
        "hour_df.info()"
      ]
    },
    {
      "cell_type": "markdown",
      "metadata": {
        "id": "gp-Y6wU38DC1"
      },
      "source": [
        "## Exploratory Data Analysis (EDA)"
      ]
    },
    {
      "cell_type": "markdown",
      "metadata": {
        "id": "MW7WF2kr8DC1"
      },
      "source": [
        "### Explore ..."
      ]
    },
    {
      "cell_type": "code",
      "execution_count": null,
      "metadata": {
        "id": "e9CQCZjk8DC2"
      },
      "outputs": [],
      "source": [
        "day_df.sample(10)"
      ]
    },
    {
      "cell_type": "code",
      "execution_count": null,
      "metadata": {},
      "outputs": [],
      "source": [
        "day_df.describe(include='all')"
      ]
    },
    {
      "cell_type": "code",
      "execution_count": null,
      "metadata": {},
      "outputs": [],
      "source": [
        "year_group = day_df.groupby(by='yr').agg({\n",
        "    'cnt':'sum'\n",
        "}).reset_index()\n",
        "\n",
        "year_group.rename(columns={\n",
        "    'yr': \"Year\",\n",
        "    'cnt': \"Total\"\n",
        "}, inplace=True)\n",
        "year_group\n"
      ]
    },
    {
      "cell_type": "code",
      "execution_count": null,
      "metadata": {},
      "outputs": [],
      "source": [
        "monthly_group_df = day_df.groupby(by=['yr', 'mnth']).agg({\n",
        "    'cnt': 'sum'\n",
        "}).reset_index()\n",
        "\n",
        "monthly_group_df.rename(columns={\n",
        "    'yr': \"Year\",\n",
        "    'mnth': \"Month\",\n",
        "    'cnt': \"Total\"\n",
        "}, inplace=True)\n",
        "\n",
        "# Convert 'mnth' to Categorical type than sort the  value\n",
        "month_order = ['January', 'February', 'March', 'April', 'May', 'June', \n",
        "               'July', 'August', 'September', 'October', 'November', 'December']\n",
        "monthly_group_df['Month'] = pd.Categorical(monthly_group_df['Month'], categories=month_order, ordered=True)\n",
        "\n",
        "monthly_group_df = monthly_group_df.sort_values(by='Month')\n",
        "\n",
        "monthly_group_df\n"
      ]
    },
    {
      "cell_type": "code",
      "execution_count": null,
      "metadata": {},
      "outputs": [],
      "source": [
        "status_group_df = day_df.groupby(by=['workingday','mnth']).agg({\n",
        "    'cnt': 'sum'\n",
        "}).reset_index()\n",
        "\n",
        "status_group_df.rename(columns={\n",
        "    'yr': \"Year\",\n",
        "    'mnth': \"Month\",\n",
        "    'cnt': \"Total\"\n",
        "}, inplace=True)\n",
        "\n",
        "# Convert 'mnth' to Categorical type than sort the  value\n",
        "month_order = ['January', 'February', 'March', 'April', 'May', 'June', \n",
        "               'July', 'August', 'September', 'October', 'November', 'December']\n",
        "status_group_df['Month'] = pd.Categorical(status_group_df['Month'], categories=month_order, ordered=True)\n",
        "\n",
        "status_group_df = status_group_df.sort_values(by='Month')\n",
        "\n",
        "status_group_df"
      ]
    },
    {
      "cell_type": "markdown",
      "metadata": {
        "id": "th_Lzl2Fkj9O"
      },
      "source": [
        "**Insight:**\n",
        "- Berdasarkan hasil diatas, terjadi peningkatan pada tahun 2012\n",
        "- Berdasarkan hasil diatas Total perental pada status Holiday lebih banyak daripada pada status workingday"
      ]
    },
    {
      "cell_type": "markdown",
      "metadata": {
        "id": "zsyZjqak8DC2"
      },
      "source": [
        "## Visualization & Explanatory Analysis"
      ]
    },
    {
      "cell_type": "markdown",
      "metadata": {
        "id": "HZxOiQ6n8DC2"
      },
      "source": [
        "### Pertanyaan 1:"
      ]
    },
    {
      "cell_type": "code",
      "execution_count": null,
      "metadata": {
        "id": "1swJUdAD8DC2"
      },
      "outputs": [],
      "source": [
        "# Filter for the years 2011 and 2012\n",
        "grouped_2011 = monthly_group_df[monthly_group_df['Year'] == 2011]\n",
        "grouped_2012 = monthly_group_df[monthly_group_df['Year'] == 2012]\n",
        "\n",
        "plt.figure(figsize=(12, 10))\n",
        "\n",
        "# Plot for 2011\n",
        "plt.plot(grouped_2011['Month'], grouped_2011['Total'], marker='o', color='blue', label='2011')\n",
        "# Plot for 2012\n",
        "plt.plot(grouped_2012['Month'], grouped_2012['Total'], marker='o', color='orange', label='2012')\n",
        "\n",
        "plt.title(\"Total Count by Month for 2011 and 2012\")\n",
        "plt.xlabel('Month')\n",
        "plt.ylabel('Total Count')\n",
        "plt.xticks(ticks=month_order, labels=month_order)\n",
        "plt.legend(title='Year')\n",
        "plt.grid()\n",
        "plt.show()"
      ]
    },
    {
      "cell_type": "markdown",
      "metadata": {
        "id": "DgHI7CiU8DC2"
      },
      "source": [
        "### Pertanyaan 2:"
      ]
    },
    {
      "cell_type": "code",
      "execution_count": null,
      "metadata": {
        "id": "Go0lCsvO8DC2"
      },
      "outputs": [],
      "source": [
        "pivot_df = status_group_df.pivot(index='Month', columns='workingday', values='Total').fillna(0)\n",
        "\n",
        "plt.figure(figsize=(16, 10))\n",
        "pivot_df.plot(kind='bar', width=0.8)\n",
        "\n",
        "plt.title('Total Count by Month for Working Days and Holidays')\n",
        "plt.xlabel('Month')\n",
        "plt.ylabel('Total Count')\n",
        "plt.xticks(ticks=range(len(pivot_df.index)), labels=['Jan', 'Feb', 'Mar', 'Apr', 'May', 'Jun', 'Jul', 'Aug', 'Sep', 'Oct', 'Nov', 'Dec'], rotation=0)\n",
        "plt.legend(title='Working Day', labels=['Holiday', 'Working Day'])\n",
        "plt.grid(axis='y')\n",
        "\n",
        "\n",
        "plt.tight_layout()  \n",
        "plt.show()"
      ]
    },
    {
      "cell_type": "markdown",
      "metadata": {
        "id": "_0-36BDLklRg"
      },
      "source": [
        "**Insight:**\n",
        "- Pada Juni 2011 dan september 2012 kita dapat mengetahui puncak dari perental pada tiap tahunnya.\n",
        "- Total perental turun secara signifikan pada hari libur"
      ]
    },
    {
      "cell_type": "markdown",
      "metadata": {
        "id": "_WeHlCeX8DC2"
      },
      "source": [
        "## Conclusion"
      ]
    },
    {
      "cell_type": "markdown",
      "metadata": {
        "id": "ZTcyR48Y8DC2"
      },
      "source": [
        "- Conclution pertanyaan 1:\n",
        "Selama 2 tahun, selalu terjadi peningkatan jumlah perental di Q2 dan Q3. Sedangkan pada 4 selalu mengalami penurunan yang signifikan terhadap jumlah perental.\n",
        "- Conclution pertanyaan 2"
      ]
    }
  ],
  "metadata": {
    "colab": {
      "provenance": []
    },
    "kernelspec": {
      "display_name": "Python 3",
      "language": "python",
      "name": "python3"
    },
    "language_info": {
      "name": "python",
      "version": "3.8.0 (tags/v3.8.0:fa919fd, Oct 14 2019, 19:21:23) [MSC v.1916 32 bit (Intel)]"
    },
    "orig_nbformat": 4,
    "vscode": {
      "interpreter": {
        "hash": "972b3bf27e332e87b5379f2791f6ef9dfc79c71018c370b0d7423235e20fe4d7"
      }
    }
  },
  "nbformat": 4,
  "nbformat_minor": 0
}
